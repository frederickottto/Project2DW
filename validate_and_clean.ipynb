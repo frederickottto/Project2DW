{
 "cells": [
  {
   "cell_type": "code",
   "execution_count": 52,
   "metadata": {},
   "outputs": [],
   "source": [
    "import plotly.io as pio\n",
    "pio.renderers.default = \"notebook\""
   ]
  },
  {
   "cell_type": "code",
   "execution_count": null,
   "metadata": {},
   "outputs": [],
   "source": [
    "import pandas as pd\n",
    "\n",
    "# Load directly from GitHub\n",
    "url = \"https://raw.githubusercontent.com/frederickottto/Project2DW/main/atp_leaderboards_until_2024.csv\"\n",
    "df = pd.read_csv(url)\n",
    "\n",
    "# Preview data\n",
    "df.head()\n"
   ]
  },
  {
   "cell_type": "code",
   "execution_count": null,
   "metadata": {},
   "outputs": [],
   "source": [
    "df"
   ]
  },
  {
   "cell_type": "code",
   "execution_count": null,
   "metadata": {},
   "outputs": [],
   "source": [
    "# Check column names and types\n",
    "df.info()\n",
    "\n",
    "# Check basic stats\n",
    "df.describe(include='all')"
   ]
  },
  {
   "cell_type": "code",
   "execution_count": null,
   "metadata": {},
   "outputs": [],
   "source": [
    "# Count missing values\n",
    "print(\"Missing values per column:\")\n",
    "print(df.isnull().sum())\n",
    "\n",
    "# Count duplicates\n",
    "print(f\"Duplicate rows: {df.duplicated().sum()}\")\n"
   ]
  },
  {
   "cell_type": "code",
   "execution_count": null,
   "metadata": {},
   "outputs": [],
   "source": [
    "# Split into Serve and Return datasets\n",
    "serve_df = df[df['Board_Type'] == 'serve'].reset_index(drop=True)\n",
    "return_df = df[df['Board_Type'] == 'return'].reset_index(drop=True)\n",
    "\n",
    "# Save to separate CSV files\n",
    "serve_df.to_csv(\"serve_leaderboard.csv\", index=False)\n",
    "return_df.to_csv(\"return_leaderboard.csv\", index=False)\n",
    "\n",
    "print(\"Files saved: 'serve_leaderboard.csv' and 'return_leaderboard.csv'\")\n"
   ]
  },
  {
   "cell_type": "code",
   "execution_count": null,
   "metadata": {},
   "outputs": [],
   "source": [
    "url = \"https://github.com/frederickottto/Project2DW/raw/refs/heads/main/serve_leaderboard.csv\"\n",
    "serve_df = pd.read_csv(url)\n",
    "serve_df.head()"
   ]
  },
  {
   "cell_type": "code",
   "execution_count": null,
   "metadata": {},
   "outputs": [],
   "source": [
    "serve_df"
   ]
  },
  {
   "cell_type": "code",
   "execution_count": null,
   "metadata": {},
   "outputs": [],
   "source": [
    "serve_df.isnull().sum()"
   ]
  },
  {
   "cell_type": "code",
   "execution_count": null,
   "metadata": {},
   "outputs": [],
   "source": [
    "url = \"https://github.com/frederickottto/Project2DW/raw/refs/heads/main/return_leaderboard.csv\"\n",
    "return_df = pd.read_csv(url)\n",
    "return_df.head()"
   ]
  },
  {
   "cell_type": "code",
   "execution_count": null,
   "metadata": {},
   "outputs": [],
   "source": [
    "# List of return-related columns to drop\n",
    "return_columns = [\n",
    "    'Return Rating',\n",
    "    '% 1st Serve Return Points Won',\n",
    "    '% 2nd Serve Return Points Won',\n",
    "    '% Return Games Won',\n",
    "    '% Break Points Converted',\n",
    "    'Board_Type'\n",
    "]\n",
    "\n",
    "# Drop them from serve_df\n",
    "serve_df = serve_df.drop(columns=return_columns)\n",
    "\n",
    "# Check result\n",
    "serve_df.head()"
   ]
  },
  {
   "cell_type": "code",
   "execution_count": null,
   "metadata": {},
   "outputs": [],
   "source": [
    "serve_columns = [\n",
    "    'Serve Rating', '% 1st Serve', '% 1st Serve', '% 1st Serve Points Won','% 2st Serve Points Won', '% Service Games Won', 'Avg. Aces/ Match', 'Avg. Double Faults/Match'\n",
    "]\n",
    "\n",
    "return_df = return_df.drop(columns=serve_columns)\n",
    "\n",
    "return_df.head()"
   ]
  },
  {
   "cell_type": "code",
   "execution_count": 64,
   "metadata": {},
   "outputs": [],
   "source": [
    "return_df = return_df.drop(columns='Board_Type')"
   ]
  },
  {
   "cell_type": "code",
   "execution_count": null,
   "metadata": {},
   "outputs": [],
   "source": [
    "return_df.head()"
   ]
  },
  {
   "cell_type": "code",
   "execution_count": null,
   "metadata": {},
   "outputs": [],
   "source": [
    "serve_df.head()"
   ]
  },
  {
   "cell_type": "code",
   "execution_count": null,
   "metadata": {},
   "outputs": [],
   "source": [
    "# Reorder columns: move 'Year' to come right after 'Player'\n",
    "cols = serve_df.columns.tolist()\n",
    "cols.remove('Year')\n",
    "new_order = cols[:1] + ['Year'] + cols[1:]\n",
    "serve_df = serve_df[new_order]\n",
    "\n",
    "# Check result\n",
    "serve_df.head()\n"
   ]
  },
  {
   "cell_type": "code",
   "execution_count": 68,
   "metadata": {},
   "outputs": [],
   "source": [
    "def validate_leaderboard(df, required_columns, percent_columns, numeric_columns, name=\"\"):\n",
    "    import pandas as pd\n",
    "\n",
    "    print(f\"\\n Validating {name} leaderboard...\")\n",
    "\n",
    "    # 1. Check required columns exist\n",
    "    for col in required_columns:\n",
    "        if col not in df.columns:\n",
    "            print(f\" Missing column: {col}\")\n",
    "    \n",
    "    # 2. Check for missing values\n",
    "    print(\"\\n Missing values per column:\")\n",
    "    print(df[required_columns].isnull().sum())\n",
    "\n",
    "    # 3. Drop duplicates\n",
    "    before = len(df)\n",
    "    df = df.drop_duplicates()\n",
    "    print(f\"\\n Removed {before - len(df)} duplicate rows.\")\n",
    "\n",
    "    # 4. Convert percentage strings to floats\n",
    "    for col in percent_columns:\n",
    "        if df[col].dtype == object:\n",
    "            df[col] = (\n",
    "                df[col].str.replace('%', '', regex=False)\n",
    "                      .astype(float)\n",
    "            )\n",
    "\n",
    "    # 5. Convert numeric columns\n",
    "    for col in numeric_columns:\n",
    "        df[col] = pd.to_numeric(df[col], errors='coerce')\n",
    "\n",
    "    # 6. Ensure Year is integer\n",
    "    df['Year'] = pd.to_numeric(df['Year'], errors='coerce').astype('Int64')\n",
    "\n",
    "    # 7. Custom checks: percent values in 0–100, ratings non-negative\n",
    "    print(\"\\n Out-of-bound checks:\")\n",
    "    for col in percent_columns:\n",
    "        out_of_bounds = df[(df[col] < 0) | (df[col] > 100)]\n",
    "        if not out_of_bounds.empty:\n",
    "            print(f\" - {col}: {len(out_of_bounds)} rows outside 0–100 range.\")\n",
    "    \n",
    "    for col in numeric_columns:\n",
    "        if 'Rating' in col or 'Aces' in col or 'Faults' in col:\n",
    "            neg = df[df[col] < 0]\n",
    "            if not neg.empty:\n",
    "                print(f\" - {col}: {len(neg)} rows have negative values.\")\n",
    "\n",
    "    print(f\"\\n Validation complete for {name} leaderboard.\")\n",
    "    return df\n"
   ]
  },
  {
   "cell_type": "code",
   "execution_count": null,
   "metadata": {},
   "outputs": [],
   "source": [
    "serve_required = ['Player', 'Year', 'Serve Rating', '% 1st Serve', '% 1st Serve Points Won',\n",
    "                  '% 2st Serve Points Won', '% Service Games Won',\n",
    "                  'Avg. Aces/ Match', 'Avg. Double Faults/Match']\n",
    "\n",
    "serve_percent = ['% 1st Serve', '% 1st Serve Points Won', '% 2st Serve Points Won', '% Service Games Won']\n",
    "serve_numeric = ['Serve Rating', 'Avg. Aces/ Match', 'Avg. Double Faults/Match']\n",
    "\n",
    "serve_df = validate_leaderboard(serve_df, serve_required, serve_percent, serve_numeric, name=\"Serve\")\n"
   ]
  },
  {
   "cell_type": "code",
   "execution_count": null,
   "metadata": {},
   "outputs": [],
   "source": [
    "return_required = ['Player', 'Year', 'Return Rating', '% 1st Serve Return Points Won',\n",
    "                   '% 2nd Serve Return Points Won', '% Return Games Won', '% Break Points Converted']\n",
    "\n",
    "return_percent = ['% 1st Serve Return Points Won', '% 2nd Serve Return Points Won',\n",
    "                  '% Return Games Won', '% Break Points Converted']\n",
    "return_numeric = ['Return Rating']\n",
    "\n",
    "return_df = validate_leaderboard(return_df, return_required, return_percent, return_numeric, name=\"Return\")\n"
   ]
  },
  {
   "cell_type": "code",
   "execution_count": null,
   "metadata": {},
   "outputs": [],
   "source": [
    "serve_df\n"
   ]
  },
  {
   "cell_type": "code",
   "execution_count": null,
   "metadata": {},
   "outputs": [],
   "source": [
    "serve_df = serve_df.rename(columns={'Unnamed: 0': 'Standing'})\n",
    "cols = serve_df.columns.tolist()\n",
    "cols.remove('Standing')\n",
    "cols.insert(cols.index('Player') + 1, 'Standing')\n",
    "serve_df = serve_df[cols]\n",
    "serve_df"
   ]
  },
  {
   "cell_type": "code",
   "execution_count": null,
   "metadata": {},
   "outputs": [],
   "source": [
    "return_df"
   ]
  },
  {
   "cell_type": "code",
   "execution_count": null,
   "metadata": {},
   "outputs": [],
   "source": [
    "# Add Standing based on row order per year\n",
    "return_df[\"Standing\"] = (\n",
    "    return_df.groupby(\"Year\")\n",
    "    .cumcount() + 1\n",
    ")\n",
    "\n",
    "# Move 'Standing' after 'Player'\n",
    "cols = return_df.columns.tolist()\n",
    "cols.remove(\"Standing\")\n",
    "cols.insert(cols.index(\"Player\") + 1, \"Standing\")\n",
    "return_df = return_df[cols]\n",
    "\n",
    "# Preview result\n",
    "return_df\n"
   ]
  },
  {
   "cell_type": "code",
   "execution_count": 75,
   "metadata": {},
   "outputs": [],
   "source": [
    "#serve_df.to_csv(\"serve_leaderboard_cleaned.csv\", index=False)\n",
    "#return_df.to_csv(\"return_leaderboard_cleaned.csv\", index=False)\n"
   ]
  },
  {
   "cell_type": "code",
   "execution_count": null,
   "metadata": {},
   "outputs": [],
   "source": [
    "import pandas as pd\n",
    "import plotly.express as px\n",
    "import plotly.graph_objects as go\n",
    "import numpy as np\n",
    "\n",
    "\n",
    "# Filter for 2024\n",
    "serve_2024 = serve_df[serve_df[\"Year\"] == 2024].sort_values(\"Standing\")\n",
    "return_2024 = return_df[return_df[\"Year\"] == 2024].sort_values(\"Standing\")\n",
    "\n",
    "# 1. Serve Line Plot\n",
    "fig1 = px.line(\n",
    "    serve_2024,\n",
    "    x=\"Standing\",\n",
    "    y=\"% 1st Serve\",\n",
    "    title=\"% 1st Serve by Standing (2024)\",\n",
    "    markers=True\n",
    ")\n",
    "fig1.show()\n",
    "\n",
    "# 2. Serve Bar Chart (Top 10)\n",
    "fig2 = px.bar(\n",
    "    serve_2024.head(10),\n",
    "    x=\"Player\",\n",
    "    y=\"% Service Games Won\",\n",
    "    title=\"% Service Games Won – Top 10 Servers (2024)\",\n",
    "    color=\"Player\"\n",
    ")\n",
    "fig2.show()\n",
    "\n",
    "# 3. Serve Scatter Plot + Best Fit\n",
    "x = serve_2024[\"% 1st Serve\"]\n",
    "y = serve_2024[\"% 2st Serve Points Won\"]\n",
    "coeffs = np.polyfit(x, y, 1)\n",
    "trend = np.poly1d(coeffs)\n",
    "fig3 = px.scatter(\n",
    "    serve_2024,\n",
    "    x=\"% 1st Serve\",\n",
    "    y=\"% 2st Serve Points Won\",\n",
    "    hover_name=\"Player\",\n",
    "    title=\"% 2nd Serve Points Won vs % 1st Serve (2024)\",\n",
    "    color=\"Player\"\n",
    ")\n",
    "fig3.add_trace(go.Scatter(\n",
    "    x=x,\n",
    "    y=trend(x),\n",
    "    mode=\"lines\",\n",
    "    name=\"Best Fit Line\",\n",
    "    line=dict(color=\"black\", dash=\"dash\")\n",
    "))\n",
    "fig3.show()\n",
    "\n",
    "# 4. Return Line Plot\n",
    "fig4 = px.line(\n",
    "    return_2024,\n",
    "    x=\"Standing\",\n",
    "    y=\"% Return Games Won\",\n",
    "    title=\"% Return Games Won by Standing (2024)\",\n",
    "    markers=True\n",
    ")\n",
    "fig4.show()\n",
    "\n",
    "# 5. Return Bar Chart (Top 10)\n",
    "fig5 = px.bar(\n",
    "    return_2024.head(10),\n",
    "    x=\"Player\",\n",
    "    y=\"% Break Points Converted\",\n",
    "    title=\"% Break Points Converted – Top 10 Returners (2024)\",\n",
    "    color=\"Player\"\n",
    ")\n",
    "fig5.show()\n",
    "\n",
    "# 6. Return Scatter Plot + Best Fit\n",
    "x_r = return_2024[\"% 1st Serve Return Points Won\"]\n",
    "y_r = return_2024[\"% 2nd Serve Return Points Won\"]\n",
    "coeffs_r = np.polyfit(x_r, y_r, 1)\n",
    "trend_r = np.poly1d(coeffs_r)\n",
    "fig6 = px.scatter(\n",
    "    return_2024,\n",
    "    x=\"% 1st Serve Return Points Won\",\n",
    "    y=\"% 2nd Serve Return Points Won\",\n",
    "    hover_name=\"Player\",\n",
    "    title=\"% 2nd Serve Return Points Won vs % 1st Serve Return (2024)\",\n",
    "    color=\"Player\"\n",
    ")\n",
    "fig6.add_trace(go.Scatter(\n",
    "    x=x_r,\n",
    "    y=trend_r(x_r),\n",
    "    mode=\"lines\",\n",
    "    name=\"Best Fit Line\",\n",
    "    line=dict(color=\"black\", dash=\"dash\")\n",
    "))\n",
    "fig6.show()\n",
    "\n",
    "\n"
   ]
  }
 ],
 "metadata": {
  "kernelspec": {
   "display_name": "Python 3",
   "language": "python",
   "name": "python3"
  },
  "language_info": {
   "codemirror_mode": {
    "name": "ipython",
    "version": 3
   },
   "file_extension": ".py",
   "mimetype": "text/x-python",
   "name": "python",
   "nbconvert_exporter": "python",
   "pygments_lexer": "ipython3",
   "version": "3.12.1"
  }
 },
 "nbformat": 4,
 "nbformat_minor": 2
}
